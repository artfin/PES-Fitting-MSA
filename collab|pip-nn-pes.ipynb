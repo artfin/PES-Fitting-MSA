{
 "cells": [
  {
   "cell_type": "code",
   "execution_count": 3,
   "id": "f1d0ea53",
   "metadata": {},
   "outputs": [],
   "source": [
    "import logging\n",
    "import numpy as np\n",
    "import os\n",
    "\n",
    "import torch\n",
    "import torch.nn as nn\n",
    "\n",
    "from model import FCNet\n",
    "from dataset import PolyDataset\n",
    "from dataset import HTOCM\n",
    "\n",
    "torch.manual_seed(42)\n",
    "np.random.seed(42)\n",
    "\n",
    "from tqdm import tqdm\n",
    "import torch.optim as optim\n",
    "\n",
    "# taken from https://github.com/hjmshi/PyTorch-LBFGS \n",
    "# from LBFGS import LBFGS, FullBatchLBFGS\n",
    "\n",
    "# original github repo\n",
    "# https://github.com/amirgholami/adahessian\n",
    "# \n",
    "# lessw2020 update\n",
    "# https://github.com/lessw2020/Best-Deep-Learning-Optimizers/tree/master/adahessian\n",
    "from adahessian import Adahessian"
   ]
  }
 ],
 "metadata": {
  "kernelspec": {
   "display_name": "Python 3",
   "language": "python",
   "name": "python3"
  },
  "language_info": {
   "codemirror_mode": {
    "name": "ipython",
    "version": 3
   },
   "file_extension": ".py",
   "mimetype": "text/x-python",
   "name": "python",
   "nbconvert_exporter": "python",
   "pygments_lexer": "ipython3",
   "version": "3.8.10"
  }
 },
 "nbformat": 4,
 "nbformat_minor": 5
}
