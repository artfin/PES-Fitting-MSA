{
  "cells": [
    {
      "cell_type": "code",
      "execution_count": 6,
      "id": "f1d0ea53",
      "metadata": {
        "id": "f1d0ea53"
      },
      "outputs": [],
      "source": [
        "import logging\n",
        "import numpy as np\n",
        "import os\n",
        "\n",
        "import torch\n",
        "import torch.nn as nn\n",
        "\n",
        "torch.manual_seed(42)\n",
        "np.random.seed(42)\n",
        "\n",
        "from tqdm import tqdm\n",
        "import torch.optim as optim"
      ]
    },
    {
      "cell_type": "code",
      "source": [
        "from IPython.display import clear_output\n",
        "\n",
        "!wget https://raw.githubusercontent.com/artfin/PES-Fitting-MSA/master/model.py\n",
        "!wget https://raw.githubusercontent.com/artfin/PES-Fitting-MSA/master/dataset.py\n",
        "\n",
        "from model import FCNet\n",
        "from dataset import PolyDataset\n",
        "from dataset import HTOCM\n",
        "\n",
        "clear_output()"
      ],
      "metadata": {
        "id": "RgUGE1aQLpFn"
      },
      "id": "RgUGE1aQLpFn",
      "execution_count": 8,
      "outputs": []
    },
    {
      "cell_type": "code",
      "source": [
        "# original github repo\n",
        "# https://github.com/amirgholami/adahessian\n",
        "# \n",
        "# lessw2020 update\n",
        "# https://github.com/lessw2020/Best-Deep-Learning-Optimizers/tree/master/adahessian\n",
        "\n",
        "!wget https://raw.githubusercontent.com/lessw2020/Best-Deep-Learning-Optimizers/master/adahessian/adahessian.py\n",
        "\n",
        "from adahessian import Adahessian\n",
        "\n",
        "clear_output()"
      ],
      "metadata": {
        "id": "KjO5vjz4LDub"
      },
      "id": "KjO5vjz4LDub",
      "execution_count": 9,
      "outputs": []
    },
    {
      "cell_type": "code",
      "source": [
        ""
      ],
      "metadata": {
        "id": "lzkUUlJvLkF6",
        "outputId": "f23f41ea-515d-4246-8de0-a0b0d11ea3b5",
        "colab": {
          "base_uri": "https://localhost:8080/"
        }
      },
      "id": "lzkUUlJvLkF6",
      "execution_count": 5,
      "outputs": [
        {
          "output_type": "execute_result",
          "data": {
            "text/plain": [
              "adahessian.Adahessian"
            ]
          },
          "metadata": {},
          "execution_count": 5
        }
      ]
    }
  ],
  "metadata": {
    "kernelspec": {
      "display_name": "Python 3",
      "language": "python",
      "name": "python3"
    },
    "language_info": {
      "codemirror_mode": {
        "name": "ipython",
        "version": 3
      },
      "file_extension": ".py",
      "mimetype": "text/x-python",
      "name": "python",
      "nbconvert_exporter": "python",
      "pygments_lexer": "ipython3",
      "version": "3.8.10"
    },
    "colab": {
      "name": "collab|pip-nn-pes.ipynb",
      "provenance": []
    }
  },
  "nbformat": 4,
  "nbformat_minor": 5
}